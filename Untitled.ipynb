{
 "cells": [
  {
   "cell_type": "code",
   "execution_count": 1,
   "id": "earned-evening",
   "metadata": {},
   "outputs": [
    {
     "name": "stdout",
     "output_type": "stream",
     "text": [
      "Collecting flask\n",
      "  Downloading Flask-2.0.1-py3-none-any.whl (94 kB)\n",
      "Collecting itsdangerous>=2.0\n",
      "  Downloading itsdangerous-2.0.1-py3-none-any.whl (18 kB)\n",
      "Collecting Jinja2>=3.0\n",
      "  Downloading Jinja2-3.0.1-py3-none-any.whl (133 kB)\n",
      "Requirement already satisfied: Werkzeug>=2.0 in c:\\users\\lokey\\desktop\\tf obj det\\ytd tutorial\\tfodcourse\\tfod\\lib\\site-packages (from flask) (2.0.1)\n",
      "Collecting click>=7.1.2\n",
      "  Downloading click-8.0.1-py3-none-any.whl (97 kB)\n",
      "Requirement already satisfied: colorama in c:\\users\\lokey\\desktop\\tf obj det\\ytd tutorial\\tfodcourse\\tfod\\lib\\site-packages (from click>=7.1.2->flask) (0.4.4)\n",
      "Collecting MarkupSafe>=2.0\n",
      "  Downloading MarkupSafe-2.0.1-cp39-cp39-win_amd64.whl (14 kB)\n",
      "Installing collected packages: MarkupSafe, Jinja2, itsdangerous, click, flask\n",
      "Successfully installed Jinja2-3.0.1 MarkupSafe-2.0.1 click-8.0.1 flask-2.0.1 itsdangerous-2.0.1\n"
     ]
    }
   ],
   "source": [
    "!pip install flask"
   ]
  },
  {
   "cell_type": "code",
   "execution_count": 2,
   "id": "broad-pacific",
   "metadata": {},
   "outputs": [
    {
     "name": "stdout",
     "output_type": "stream",
     "text": [
      "Package                 Version             Location\n",
      "----------------------- ------------------- -----------------------------------------------------------------------------------------\n",
      "absl-py                 0.12.0\n",
      "astunparse              1.6.3\n",
      "backcall                0.2.0\n",
      "cachetools              4.2.2\n",
      "certifi                 2021.5.30\n",
      "chardet                 4.0.0\n",
      "click                   8.0.1\n",
      "colorama                0.4.4\n",
      "contextlib2             0.6.0.post1\n",
      "cycler                  0.10.0\n",
      "cython                  3.0a7\n",
      "decorator               5.0.9\n",
      "Flask                   2.0.1\n",
      "flatbuffers             1.12\n",
      "gast                    0.4.0\n",
      "gin                     0.1.6\n",
      "gin-config              0.1.1\n",
      "google-auth             1.30.1\n",
      "google-auth-oauthlib    0.4.4\n",
      "google-pasta            0.2.0\n",
      "grpcio                  1.34.1\n",
      "h5py                    3.1.0\n",
      "idna                    2.10\n",
      "ipykernel               5.5.5\n",
      "ipython                 7.24.0\n",
      "ipython-genutils        0.2.0\n",
      "itsdangerous            2.0.1\n",
      "jedi                    0.18.0\n",
      "Jinja2                  3.0.1\n",
      "jupyter-client          6.1.12\n",
      "jupyter-core            4.7.1\n",
      "keras-nightly           2.5.0.dev2021032900\n",
      "Keras-Preprocessing     1.1.2\n",
      "kiwisolver              1.3.1\n",
      "lvis                    0.5.3\n",
      "lxml                    4.6.3\n",
      "Markdown                3.3.4\n",
      "MarkupSafe              2.0.1\n",
      "matplotlib              3.4.2\n",
      "matplotlib-inline       0.1.2\n",
      "numpy                   1.19.5\n",
      "oauthlib                3.1.1\n",
      "object-detection        0.1\n",
      "opencv-python           4.5.2.52\n",
      "opt-einsum              3.3.0\n",
      "pandas                  1.2.4\n",
      "parso                   0.8.2\n",
      "pickleshare             0.7.5\n",
      "pillow                  8.2.0\n",
      "pip                     21.1.2\n",
      "prompt-toolkit          3.0.18\n",
      "protobuf                3.17.1\n",
      "pyasn1                  0.4.8\n",
      "pyasn1-modules          0.2.8\n",
      "pycocotools             2.0.2\n",
      "Pygments                2.9.0\n",
      "pyparsing               2.4.7\n",
      "PyQt5                   5.15.4\n",
      "PyQt5-Qt5               5.15.2\n",
      "PyQt5-sip               12.9.0\n",
      "python-dateutil         2.8.1\n",
      "pytz                    2021.1\n",
      "pywin32                 301\n",
      "PyYAML                  5.4.1\n",
      "pyzmq                   22.1.0\n",
      "requests                2.25.1\n",
      "requests-oauthlib       1.3.0\n",
      "rsa                     4.7.2\n",
      "scipy                   1.6.3\n",
      "setuptools              49.2.1\n",
      "six                     1.15.0\n",
      "slim                    0.1                 c:\\users\\lokey\\desktop\\tf obj det\\ytd tutorial\\tfodcourse\\tensorflow\\models\\research\\slim\n",
      "tensorboard             2.5.0\n",
      "tensorboard-data-server 0.6.1\n",
      "tensorboard-plugin-wit  1.8.0\n",
      "tensorflow              2.5.0\n",
      "tensorflow-addons       0.13.0\n",
      "tensorflow-estimator    2.5.0\n",
      "termcolor               1.1.0\n",
      "tf-models-official      2.5.0\n",
      "tf-slim                 1.1.0\n",
      "tornado                 6.1\n",
      "traitlets               5.0.5\n",
      "typeguard               2.12.0\n",
      "typing-extensions       3.7.4.3\n",
      "urllib3                 1.26.5\n",
      "wcwidth                 0.2.5\n",
      "Werkzeug                2.0.1\n",
      "wget                    3.2\n",
      "wheel                   0.36.2\n",
      "wrapt                   1.12.1\n"
     ]
    }
   ],
   "source": [
    "!pip list"
   ]
  },
  {
   "cell_type": "code",
   "execution_count": 5,
   "id": "jewish-mambo",
   "metadata": {},
   "outputs": [
    {
     "name": "stderr",
     "output_type": "stream",
     "text": [
      " * Running on http://localhost:9000/ (Press CTRL+C to quit)\n",
      "127.0.0.1 - - [06/Jun/2021 04:25:07] \"\u001b[37mGET / HTTP/1.1\u001b[0m\" 200 -\n",
      "127.0.0.1 - - [06/Jun/2021 04:25:07] \"\u001b[33mGET /favicon.ico HTTP/1.1\u001b[0m\" 404 -\n"
     ]
    }
   ],
   "source": [
    "from flask import Flask\n",
    "\n",
    "app = Flask(__name__)\n",
    "\n",
    "@app.route(\"/\")\n",
    "def hello():\n",
    "    return \"Hello World!\"\n",
    "\n",
    "if __name__ == '__main__':\n",
    "    from werkzeug.serving import run_simple\n",
    "    run_simple('localhost', 9000, app)"
   ]
  },
  {
   "cell_type": "code",
   "execution_count": null,
   "id": "brown-going",
   "metadata": {},
   "outputs": [],
   "source": []
  }
 ],
 "metadata": {
  "kernelspec": {
   "display_name": "tfod",
   "language": "python",
   "name": "tfod"
  },
  "language_info": {
   "codemirror_mode": {
    "name": "ipython",
    "version": 3
   },
   "file_extension": ".py",
   "mimetype": "text/x-python",
   "name": "python",
   "nbconvert_exporter": "python",
   "pygments_lexer": "ipython3",
   "version": "3.9.1"
  }
 },
 "nbformat": 4,
 "nbformat_minor": 5
}
