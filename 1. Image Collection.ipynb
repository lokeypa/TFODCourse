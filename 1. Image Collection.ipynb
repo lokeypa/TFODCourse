{
 "cells": [
  {
   "cell_type": "markdown",
   "metadata": {},
   "source": [
    "# 1. Import Dependencies"
   ]
  },
  {
   "cell_type": "code",
   "execution_count": 1,
   "metadata": {},
   "outputs": [
    {
     "name": "stdout",
     "output_type": "stream",
     "text": [
      "Requirement already satisfied: opencv-python in c:\\users\\lokey\\desktop\\tf obj det\\ytd tutorial\\tfodcourse\\tfod\\lib\\site-packages (4.5.2.52)\n",
      "Requirement already satisfied: numpy>=1.19.3 in c:\\users\\lokey\\desktop\\tf obj det\\ytd tutorial\\tfodcourse\\tfod\\lib\\site-packages (from opencv-python) (1.19.5)\n"
     ]
    }
   ],
   "source": [
    "!pip install opencv-python"
   ]
  },
  {
   "cell_type": "code",
   "execution_count": 2,
   "metadata": {},
   "outputs": [],
   "source": [
    "# Import opencv\n",
    "import cv2 \n",
    "\n",
    "# Import uuid uniquie identifier\n",
    "import uuid\n",
    "\n",
    "# Import Operating System\n",
    "import os\n",
    "\n",
    "# Import time\n",
    "import time"
   ]
  },
  {
   "cell_type": "code",
   "execution_count": null,
   "metadata": {},
   "outputs": [],
   "source": [
    "!python -m pip install --upgrade pip"
   ]
  },
  {
   "cell_type": "markdown",
   "metadata": {},
   "source": [
    "# 2. Define Images to Collect"
   ]
  },
  {
   "cell_type": "code",
   "execution_count": 3,
   "metadata": {},
   "outputs": [
    {
     "data": {
      "text/plain": [
       "list"
      ]
     },
     "execution_count": 3,
     "metadata": {},
     "output_type": "execute_result"
    }
   ],
   "source": [
    "labels = ['SEXY_BOY']\n",
    "number_imgs = 10\n",
    "type(labels)\n"
   ]
  },
  {
   "cell_type": "code",
   "execution_count": 4,
   "metadata": {},
   "outputs": [
    {
     "data": {
      "text/plain": [
       "['SEXY_BOY']"
      ]
     },
     "execution_count": 4,
     "metadata": {},
     "output_type": "execute_result"
    }
   ],
   "source": [
    "labels"
   ]
  },
  {
   "cell_type": "markdown",
   "metadata": {},
   "source": [
    "# 3. Setup Folders "
   ]
  },
  {
   "cell_type": "code",
   "execution_count": 5,
   "metadata": {},
   "outputs": [],
   "source": [
    "IMAGES_PATH = os.path.join('Tensorflow', 'workspace', 'images', 'collectedimages')"
   ]
  },
  {
   "cell_type": "code",
   "execution_count": 6,
   "metadata": {},
   "outputs": [
    {
     "name": "stdout",
     "output_type": "stream",
     "text": [
      "Tensorflow\\workspace\\images\\collectedimages\n"
     ]
    },
    {
     "data": {
      "text/plain": [
       "'nt'"
      ]
     },
     "execution_count": 6,
     "metadata": {},
     "output_type": "execute_result"
    }
   ],
   "source": [
    "print(IMAGES_PATH)\n",
    "os.name"
   ]
  },
  {
   "cell_type": "code",
   "execution_count": 7,
   "metadata": {},
   "outputs": [],
   "source": [
    "if not os.path.exists(IMAGES_PATH):\n",
    "    if os.name == 'posix':\n",
    "        !mkdir -p {IMAGES_PATH}\n",
    "    if os.name == 'nt':\n",
    "         !mkdir {IMAGES_PATH}\n",
    "for label in labels:\n",
    "    path = os.path.join(IMAGES_PATH, label)\n",
    "    if not os.path.exists(path):\n",
    "        !mkdir {path}"
   ]
  },
  {
   "cell_type": "markdown",
   "metadata": {},
   "source": [
    "# 4. Capture Images"
   ]
  },
  {
   "cell_type": "code",
   "execution_count": 8,
   "metadata": {},
   "outputs": [
    {
     "name": "stdout",
     "output_type": "stream",
     "text": [
      "Collecting images for SEXY_BOY\n",
      "Collecting image 0\n",
      "Collecting image 1\n",
      "Collecting image 2\n",
      "Collecting image 3\n",
      "Collecting image 4\n",
      "Collecting image 5\n",
      "Collecting image 6\n",
      "Collecting image 7\n",
      "Collecting image 8\n",
      "Collecting image 9\n"
     ]
    }
   ],
   "source": [
    "for label in labels:\n",
    "    cap = cv2.VideoCapture(0) #connect the camera.\n",
    "    print('Collecting images for {}'.format(label))\n",
    "    time.sleep(5)\n",
    "    for imgnum in range(number_imgs):\n",
    "        print('Collecting image {}'.format(imgnum))\n",
    "        ret, frame = cap.read()\n",
    "        imgname = os.path.join(IMAGES_PATH,label,label+'.'+'{}.jpg'.format(str(uuid.uuid1())))\n",
    "        cv2.imwrite(imgname, frame)\n",
    "        cv2.imshow('frame', frame)\n",
    "        time.sleep(2)\n",
    "\n",
    "        if cv2.waitKey(1) & 0xFF == ord('q'):\n",
    "            break\n",
    "cap.release()\n",
    "cv2.destroyAllWindows()"
   ]
  },
  {
   "cell_type": "markdown",
   "metadata": {},
   "source": [
    "# 5. Image Labelling"
   ]
  },
  {
   "cell_type": "code",
   "execution_count": 9,
   "metadata": {},
   "outputs": [
    {
     "name": "stdout",
     "output_type": "stream",
     "text": [
      "Requirement already satisfied: pyqt5 in c:\\users\\lokey\\desktop\\tf obj det\\ytd tutorial\\tfodcourse\\tfod\\lib\\site-packages (5.15.4)\n",
      "Requirement already satisfied: lxml in c:\\users\\lokey\\desktop\\tf obj det\\ytd tutorial\\tfodcourse\\tfod\\lib\\site-packages (4.6.3)\n",
      "Requirement already satisfied: PyQt5-sip<13,>=12.8 in c:\\users\\lokey\\desktop\\tf obj det\\ytd tutorial\\tfodcourse\\tfod\\lib\\site-packages (from pyqt5) (12.9.0)\n",
      "Requirement already satisfied: PyQt5-Qt5>=5.15 in c:\\users\\lokey\\desktop\\tf obj det\\ytd tutorial\\tfodcourse\\tfod\\lib\\site-packages (from pyqt5) (5.15.2)\n"
     ]
    }
   ],
   "source": [
    "!pip install --upgrade pyqt5 lxml"
   ]
  },
  {
   "cell_type": "code",
   "execution_count": 10,
   "metadata": {},
   "outputs": [],
   "source": [
    "LABELIMG_PATH = os.path.join('Tensorflow', 'labelimg')"
   ]
  },
  {
   "cell_type": "code",
   "execution_count": 11,
   "metadata": {},
   "outputs": [],
   "source": [
    "if not os.path.exists(LABELIMG_PATH):\n",
    "    !mkdir {LABELIMG_PATH}\n",
    "    !git clone https://github.com/tzutalin/labelImg {LABELIMG_PATH}"
   ]
  },
  {
   "cell_type": "code",
   "execution_count": 12,
   "metadata": {},
   "outputs": [],
   "source": [
    "if os.name == 'posix':\n",
    "    !make qt5py3\n",
    "if os.name =='nt':\n",
    "    !cd {LABELIMG_PATH} && pyrcc5 -o libs/resources.py resources.qrc"
   ]
  },
  {
   "cell_type": "code",
   "execution_count": 13,
   "metadata": {},
   "outputs": [
    {
     "name": "stdout",
     "output_type": "stream",
     "text": [
      "Image:C:\\Users\\lokey\\Desktop\\TF Obj Det\\ytd tutorial\\TFODCourse\\Tensorflow\\workspace\\images\\collectedimages\\SEXY_BOY\\SEXY_BOY.2aa05b04-c667-11eb-b429-b05cda3b6d94.jpg -> Annotation:C:/Users/lokey/Desktop/TF Obj Det/ytd tutorial/TFODCourse/Tensorflow/workspace/images/collectedimages/SEXY_BOY/SEXY_BOY.2aa05b04-c667-11eb-b429-b05cda3b6d94.xml\n",
      "Image:C:\\Users\\lokey\\Desktop\\TF Obj Det\\ytd tutorial\\TFODCourse\\Tensorflow\\workspace\\images\\collectedimages\\SEXY_BOY\\SEXY_BOY.2bd66357-c667-11eb-9515-b05cda3b6d94.jpg -> Annotation:C:/Users/lokey/Desktop/TF Obj Det/ytd tutorial/TFODCourse/Tensorflow/workspace/images/collectedimages/SEXY_BOY/SEXY_BOY.2bd66357-c667-11eb-9515-b05cda3b6d94.xml\n",
      "Image:C:\\Users\\lokey\\Desktop\\TF Obj Det\\ytd tutorial\\TFODCourse\\Tensorflow\\workspace\\images\\collectedimages\\SEXY_BOY\\SEXY_BOY.2d0d8307-c667-11eb-b220-b05cda3b6d94.jpg -> Annotation:C:/Users/lokey/Desktop/TF Obj Det/ytd tutorial/TFODCourse/Tensorflow/workspace/images/collectedimages/SEXY_BOY/SEXY_BOY.2d0d8307-c667-11eb-b220-b05cda3b6d94.xml\n",
      "Image:C:\\Users\\lokey\\Desktop\\TF Obj Det\\ytd tutorial\\TFODCourse\\Tensorflow\\workspace\\images\\collectedimages\\SEXY_BOY\\SEXY_BOY.2e4580b3-c667-11eb-bb36-b05cda3b6d94.jpg -> Annotation:C:/Users/lokey/Desktop/TF Obj Det/ytd tutorial/TFODCourse/Tensorflow/workspace/images/collectedimages/SEXY_BOY/SEXY_BOY.2e4580b3-c667-11eb-bb36-b05cda3b6d94.xml\n",
      "Image:C:\\Users\\lokey\\Desktop\\TF Obj Det\\ytd tutorial\\TFODCourse\\Tensorflow\\workspace\\images\\collectedimages\\SEXY_BOY\\SEXY_BOY.25c1739f-c667-11eb-9f5d-b05cda3b6d94.jpg -> Annotation:C:/Users/lokey/Desktop/TF Obj Det/ytd tutorial/TFODCourse/Tensorflow/workspace/images/collectedimages/SEXY_BOY/SEXY_BOY.25c1739f-c667-11eb-9f5d-b05cda3b6d94.xml\n",
      "Image:C:\\Users\\lokey\\Desktop\\TF Obj Det\\ytd tutorial\\TFODCourse\\Tensorflow\\workspace\\images\\collectedimages\\SEXY_BOY\\SEXY_BOY.26f9a0e2-c667-11eb-b8c1-b05cda3b6d94.jpg -> Annotation:C:/Users/lokey/Desktop/TF Obj Det/ytd tutorial/TFODCourse/Tensorflow/workspace/images/collectedimages/SEXY_BOY/SEXY_BOY.26f9a0e2-c667-11eb-b8c1-b05cda3b6d94.xml\n",
      "Image:C:\\Users\\lokey\\Desktop\\TF Obj Det\\ytd tutorial\\TFODCourse\\Tensorflow\\workspace\\images\\collectedimages\\SEXY_BOY\\SEXY_BOY.2342d091-c667-11eb-b5e3-b05cda3b6d94.jpg -> Annotation:C:/Users/lokey/Desktop/TF Obj Det/ytd tutorial/TFODCourse/Tensorflow/workspace/images/collectedimages/SEXY_BOY/SEXY_BOY.2342d091-c667-11eb-b5e3-b05cda3b6d94.xml\n",
      "Image:C:\\Users\\lokey\\Desktop\\TF Obj Det\\ytd tutorial\\TFODCourse\\Tensorflow\\workspace\\images\\collectedimages\\SEXY_BOY\\SEXY_BOY.2489b828-c667-11eb-a6fd-b05cda3b6d94.jpg -> Annotation:C:/Users/lokey/Desktop/TF Obj Det/ytd tutorial/TFODCourse/Tensorflow/workspace/images/collectedimages/SEXY_BOY/SEXY_BOY.2489b828-c667-11eb-a6fd-b05cda3b6d94.xml\n",
      "Image:C:\\Users\\lokey\\Desktop\\TF Obj Det\\ytd tutorial\\TFODCourse\\Tensorflow\\workspace\\images\\collectedimages\\SEXY_BOY\\SEXY_BOY.28303f68-c667-11eb-957c-b05cda3b6d94.jpg -> Annotation:C:/Users/lokey/Desktop/TF Obj Det/ytd tutorial/TFODCourse/Tensorflow/workspace/images/collectedimages/SEXY_BOY/SEXY_BOY.28303f68-c667-11eb-957c-b05cda3b6d94.xml\n",
      "Image:C:\\Users\\lokey\\Desktop\\TF Obj Det\\ytd tutorial\\TFODCourse\\Tensorflow\\workspace\\images\\collectedimages\\SEXY_BOY\\SEXY_BOY.29688896-c667-11eb-9ee6-b05cda3b6d94.jpg -> Annotation:C:/Users/lokey/Desktop/TF Obj Det/ytd tutorial/TFODCourse/Tensorflow/workspace/images/collectedimages/SEXY_BOY/SEXY_BOY.29688896-c667-11eb-9ee6-b05cda3b6d94.xml\n"
     ]
    }
   ],
   "source": [
    "!cd {LABELIMG_PATH} && python labelImg.py"
   ]
  },
  {
   "cell_type": "markdown",
   "metadata": {},
   "source": [
    "# 6. Move them into a Training and Testing Partition"
   ]
  },
  {
   "cell_type": "markdown",
   "metadata": {},
   "source": [
    "# OPTIONAL - 7. Compress them for Colab Training"
   ]
  },
  {
   "cell_type": "code",
   "execution_count": null,
   "metadata": {},
   "outputs": [],
   "source": [
    "TRAIN_PATH = os.path.join('Tensorflow', 'workspace', 'images', 'train')\n",
    "TEST_PATH = os.path.join('Tensorflow', 'workspace', 'images', 'test')\n",
    "ARCHIVE_PATH = os.path.join('Tensorflow', 'workspace', 'images', 'archive.tar.gz')"
   ]
  },
  {
   "cell_type": "code",
   "execution_count": null,
   "metadata": {},
   "outputs": [],
   "source": [
    "!tar -czf {ARCHIVE_PATH} {TRAIN_PATH} {TEST_PATH}"
   ]
  },
  {
   "cell_type": "code",
   "execution_count": null,
   "metadata": {},
   "outputs": [],
   "source": []
  }
 ],
 "metadata": {
  "kernelspec": {
   "display_name": "tfod",
   "language": "python",
   "name": "tfod"
  },
  "language_info": {
   "codemirror_mode": {
    "name": "ipython",
    "version": 3
   },
   "file_extension": ".py",
   "mimetype": "text/x-python",
   "name": "python",
   "nbconvert_exporter": "python",
   "pygments_lexer": "ipython3",
   "version": "3.9.1"
  }
 },
 "nbformat": 4,
 "nbformat_minor": 2
}
